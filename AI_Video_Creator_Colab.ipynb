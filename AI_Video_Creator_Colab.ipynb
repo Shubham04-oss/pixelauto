{
  "cells": [
    {
      "cell_type": "markdown",
      "id": "3d562749",
      "metadata": {
        "id": "3d562749"
      },
      "source": [
        "# 🎬 AI Short-Video Creator - Google Colab\n",
        "\n",
        "This notebook runs the AI Short-Video Creator in Google Colab with GPU acceleration.\n",
        "\n",
        "## 🚀 Setup Instructions:\n",
        "1. **Enable GPU**: Runtime → Change runtime type → GPU (T4)\n",
        "2. **Run all cells** in order\n",
        "3. **Click the ngrok URL** when it appears\n",
        "4. **Upload your text** and create videos!\n",
        "\n",
        "---"
      ]
    },
    {
      "cell_type": "code",
      "source": [
        "pip install TTS\n"
      ],
      "metadata": {
        "id": "yyjnXx966Lr5"
      },
      "id": "yyjnXx966Lr5",
      "execution_count": null,
      "outputs": []
    },
    {
      "cell_type": "code",
      "execution_count": 18,
      "id": "96d54348",
      "metadata": {
        "colab": {
          "base_uri": "https://localhost:8080/"
        },
        "id": "96d54348",
        "outputId": "e2b2d070-c7fb-48e8-93fc-3bba5dc11d55"
      },
      "outputs": [
        {
          "output_type": "stream",
          "name": "stdout",
          "text": [
            "📦 Installing system dependencies...\n",
            "W: Skipping acquire of configured file 'main/source/Sources' as repository 'https://r2u.stat.illinois.edu/ubuntu jammy InRelease' does not seem to provide it (sources.list entry misspelt?)\n",
            "Reading package lists... Done\n",
            "Building dependency tree... Done\n",
            "Reading state information... Done\n",
            "ffmpeg is already the newest version (7:4.4.2-0ubuntu0.22.04.1).\n",
            "0 upgraded, 0 newly installed, 0 to remove and 43 not upgraded.\n",
            "🐍 Installing Python packages...\n",
            "\u001b[31mERROR: Ignored the following versions that require a different python version: 0.0.10.2 Requires-Python >=3.6.0, <3.9; 0.0.10.3 Requires-Python >=3.6.0, <3.9; 0.0.11 Requires-Python >=3.6.0, <3.9; 0.0.12 Requires-Python >=3.6.0, <3.9; 0.0.13.1 Requires-Python >=3.6.0, <3.9; 0.0.13.2 Requires-Python >=3.6.0, <3.9; 0.0.14.1 Requires-Python >=3.6.0, <3.9; 0.0.15 Requires-Python >=3.6.0, <3.9; 0.0.15.1 Requires-Python >=3.6.0, <3.9; 0.0.9 Requires-Python >=3.6.0, <3.9; 0.0.9.1 Requires-Python >=3.6.0, <3.9; 0.0.9.2 Requires-Python >=3.6.0, <3.9; 0.0.9a10 Requires-Python >=3.6.0, <3.9; 0.0.9a9 Requires-Python >=3.6.0, <3.9; 0.1.0 Requires-Python >=3.6.0, <3.10; 0.1.1 Requires-Python >=3.6.0, <3.10; 0.1.2 Requires-Python >=3.6.0, <3.10; 0.1.3 Requires-Python >=3.6.0, <3.10; 0.10.0 Requires-Python >=3.7.0, <3.11; 0.10.1 Requires-Python >=3.7.0, <3.11; 0.10.2 Requires-Python >=3.7.0, <3.11; 0.11.0 Requires-Python >=3.7.0, <3.11; 0.11.1 Requires-Python >=3.7.0, <3.11; 0.12.0 Requires-Python >=3.7.0, <3.11; 0.13.0 Requires-Python >=3.7.0, <3.11; 0.13.1 Requires-Python >=3.7.0, <3.11; 0.13.2 Requires-Python >=3.7.0, <3.11; 0.13.3 Requires-Python >=3.7.0, <3.11; 0.14.0 Requires-Python >=3.7.0, <3.11; 0.14.2 Requires-Python >=3.7.0, <3.11; 0.14.3 Requires-Python >=3.7.0, <3.11; 0.15.0 Requires-Python >=3.9.0, <3.12; 0.15.1 Requires-Python >=3.9.0, <3.12; 0.15.2 Requires-Python >=3.9.0, <3.12; 0.15.4 Requires-Python >=3.9.0, <3.12; 0.15.5 Requires-Python >=3.9.0, <3.12; 0.15.6 Requires-Python >=3.9.0, <3.12; 0.16.0 Requires-Python >=3.9.0, <3.12; 0.16.1 Requires-Python >=3.9.0, <3.12; 0.16.3 Requires-Python >=3.9.0, <3.12; 0.16.4 Requires-Python >=3.9.0, <3.12; 0.16.5 Requires-Python >=3.9.0, <3.12; 0.16.6 Requires-Python >=3.9.0, <3.12; 0.17.0 Requires-Python >=3.9.0, <3.12; 0.17.1 Requires-Python >=3.9.0, <3.12; 0.17.2 Requires-Python >=3.9.0, <3.12; 0.17.4 Requires-Python >=3.9.0, <3.12; 0.17.5 Requires-Python >=3.9.0, <3.12; 0.17.6 Requires-Python >=3.9.0, <3.12; 0.17.7 Requires-Python >=3.9.0, <3.12; 0.17.8 Requires-Python >=3.9.0, <3.12; 0.17.9 Requires-Python >=3.9.0, <3.12; 0.18.0 Requires-Python >=3.9.0, <3.12; 0.18.1 Requires-Python >=3.9.0, <3.12; 0.18.2 Requires-Python >=3.9.0, <3.12; 0.19.0 Requires-Python >=3.9.0, <3.12; 0.19.1 Requires-Python >=3.9.0, <3.12; 0.2.0 Requires-Python >=3.6.0, <3.10; 0.2.1 Requires-Python >=3.6.0, <3.10; 0.2.2 Requires-Python >=3.6.0, <3.10; 0.20.0 Requires-Python >=3.9.0, <3.12; 0.20.1 Requires-Python >=3.9.0, <3.12; 0.20.2 Requires-Python >=3.9.0, <3.12; 0.20.3 Requires-Python >=3.9.0, <3.12; 0.20.4 Requires-Python >=3.9.0, <3.12; 0.20.5 Requires-Python >=3.9.0, <3.12; 0.20.6 Requires-Python >=3.9.0, <3.12; 0.21.0 Requires-Python >=3.9.0, <3.12; 0.21.1 Requires-Python >=3.9.0, <3.12; 0.21.2 Requires-Python >=3.9.0, <3.12; 0.21.3 Requires-Python >=3.9.0, <3.12; 0.22.0 Requires-Python >=3.9.0, <3.12; 0.3.0 Requires-Python >=3.6.0, <3.10; 0.3.1 Requires-Python >=3.6.0, <3.10; 0.4.0 Requires-Python >=3.6.0, <3.10; 0.4.1 Requires-Python >=3.6.0, <3.10; 0.4.2 Requires-Python >=3.6.0, <3.10; 0.5.0 Requires-Python >=3.6.0, <3.10; 0.55.2 Requires-Python <3.5; 0.6.0 Requires-Python >=3.6.0, <3.10; 0.6.1 Requires-Python >=3.6.0, <3.10; 0.6.2 Requires-Python >=3.6.0, <3.10; 0.7.0 Requires-Python >=3.7.0, <3.11; 0.7.1 Requires-Python >=3.7.0, <3.11; 0.8.0 Requires-Python >=3.7.0, <3.11; 0.9.0 Requires-Python >=3.7.0, <3.11\u001b[0m\u001b[31m\n",
            "\u001b[0m\u001b[31mERROR: Could not find a version that satisfies the requirement tts (from versions: none)\u001b[0m\u001b[31m\n",
            "\u001b[0m\u001b[31mERROR: No matching distribution found for tts\u001b[0m\u001b[31m\n",
            "\u001b[0m📚 Downloading NLTK data...\n",
            "✅ Setup complete!\n"
          ]
        }
      ],
      "source": [
        "# 🔧 System Setup and Dependencies\n",
        "print(\"📦 Installing system dependencies...\")\n",
        "!apt-get update -qq\n",
        "!apt-get install -y ffmpeg\n",
        "\n",
        "print(\"🐍 Installing Python packages...\")\n",
        "!pip install -q streamlit torch torchvision torchaudio transformers tts moviepy opencv-python pillow requests python-dotenv nltk pydub beautifulsoup4 PyPDF2 python-docx pyngrok\n",
        "\n",
        "print(\"📚 Downloading NLTK data...\")\n",
        "import nltk\n",
        "nltk.download('punkt', quiet=True)\n",
        "\n",
        "print(\"✅ Setup complete!\")"
      ]
    },
    {
      "cell_type": "code",
      "execution_count": 19,
      "id": "31102045",
      "metadata": {
        "colab": {
          "base_uri": "https://localhost:8080/"
        },
        "id": "31102045",
        "outputId": "9ade1145-c31c-4d19-db49-7878604da641"
      },
      "outputs": [
        {
          "output_type": "stream",
          "name": "stdout",
          "text": [
            "🚀 GPU Available: True\n",
            "🎯 GPU Name: Tesla T4\n",
            "💾 GPU Memory: 15.8 GB\n"
          ]
        }
      ],
      "source": [
        "# 🔥 GPU Check\n",
        "import torch\n",
        "print(f\"🚀 GPU Available: {torch.cuda.is_available()}\")\n",
        "if torch.cuda.is_available():\n",
        "    print(f\"🎯 GPU Name: {torch.cuda.get_device_name(0)}\")\n",
        "    print(f\"💾 GPU Memory: {torch.cuda.get_device_properties(0).total_memory / 1e9:.1f} GB\")\n",
        "else:\n",
        "    print(\"⚠️ GPU not available - will use CPU (slower)\")"
      ]
    },
    {
      "cell_type": "code",
      "execution_count": null,
      "id": "40275c84",
      "metadata": {
        "colab": {
          "base_uri": "https://localhost:8080/"
        },
        "id": "40275c84",
        "outputId": "9847a479-f3bc-48ea-c150-65fac1567ae1"
      },
      "outputs": [
        {
          "output_type": "stream",
          "name": "stdout",
          "text": [
            "📥 Cloning repository...\n",
            "Cloning into 'pixelauto'...\n",
            "remote: Enumerating objects: 29, done.\u001b[K\n",
            "remote: Counting objects: 100% (29/29), done.\u001b[K\n",
            "remote: Compressing objects: 100% (26/26), done.\u001b[K\n",
            "remote: Total 29 (delta 1), reused 29 (delta 1), pack-reused 0 (from 0)\u001b[K\n",
            "Receiving objects: 100% (29/29), 45.11 KiB | 11.28 MiB/s, done.\n",
            "Resolving deltas: 100% (1/1), done.\n"
          ]
        }
      ],
      "source": [
        "# 📥 Clone Repository\n",
        "import os\n",
        "if os.path.exists('/content/ai-short-video-creator'):\n",
        "    print(\"📂 Repository already exists, updating...\")\n",
        "    %cd /content/ai-short-video-creator\n",
        "    !git pull\n",
        "else:\n",
        "    print(\"📥 Cloning repository...\")\n",
        "    # 📥 Clone Repository\n",
        "    !git clone https://github.com/Shubham04-oss/pixelauto.git\n",
        "    %cd pixelauto\n",
        "\n",
        "print(\"📁 Current directory:\", os.getcwd())\n",
        "!ls -la"
      ]
    },
    {
      "cell_type": "code",
      "execution_count": null,
      "id": "5dc3b8db",
      "metadata": {
        "id": "5dc3b8db"
      },
      "outputs": [],
      "source": [
        "# ⚙️ Configure for Colab\n",
        "print(\"⚙️ Configuring for Colab...\")\n",
        "\n",
        "# Create Colab-specific config\n",
        "colab_config = \"\"\"\n",
        "# Colab-specific settings\n",
        "USE_GPU=true\n",
        "MAX_MEMORY=6\n",
        "BATCH_SIZE=1\n",
        "VIDEO_DURATION=45\n",
        "CACHE_MODELS=true\n",
        "DEBUG_MODE=false\n",
        "\"\"\"\n",
        "\n",
        "with open('.env', 'w') as f:\n",
        "    f.write(colab_config)\n",
        "\n",
        "print(\"✅ Configuration complete!\")"
      ]
    },
    {
      "cell_type": "code",
      "source": [
        "pip install pyngrok"
      ],
      "metadata": {
        "id": "wQrIKJlJ3chM"
      },
      "id": "wQrIKJlJ3chM",
      "execution_count": null,
      "outputs": []
    },
    {
      "cell_type": "code",
      "execution_count": null,
      "id": "3f86009c",
      "metadata": {
        "id": "3f86009c"
      },
      "outputs": [],
      "source": [
        "# 🌐 Setup Ngrok (Get free token from ngrok.com)\n",
        "from pyngrok import ngrok, conf\n",
        "\n",
        "# Replace with your ngrok token (get free one from ngrok.com)\n",
        "NGROK_TOKEN = \"31YGPNmIqcUAHrenZKh8YiJh8Ds_6ov4E4HeFZJ73KtW3vEqN\"  # Paste your token here\n",
        "\n",
        "if NGROK_TOKEN:\n",
        "    ngrok.set_auth_token(NGROK_TOKEN)\n",
        "    print(\"✅ Ngrok configured!\")\n",
        "else:\n",
        "    print(\"⚠️ Please get a free ngrok token from https://ngrok.com and paste it above\")\n",
        "    print(\"   This is needed to access your app from the internet\")"
      ]
    },
    {
      "cell_type": "code",
      "execution_count": null,
      "id": "9763942b",
      "metadata": {
        "id": "9763942b"
      },
      "outputs": [],
      "source": [
        "# 🤖 Download AI Models (First run only)\n",
        "print(\"🤖 Downloading AI models... (this may take 5-10 minutes on first run)\")\n",
        "\n",
        "try:\n",
        "    from transformers import AutoTokenizer, AutoModelForSeq2SeqLM\n",
        "    print(\"📥 Downloading BART model...\")\n",
        "    tokenizer = AutoTokenizer.from_pretrained('facebook/bart-large-cnn')\n",
        "    model = AutoModelForSeq2SeqLM.from_pretrained('facebook/bart-large-cnn')\n",
        "    print(\"✅ BART model ready!\")\n",
        "except Exception as e:\n",
        "    print(f\"⚠️ BART download failed: {e}\")\n",
        "\n",
        "try:\n",
        "    from TTS.api import TTS\n",
        "    print(\"📥 Downloading TTS model...\")\n",
        "    tts = TTS('tts_models/en/ljspeech/tacotron2-DDC', progress_bar=False)\n",
        "    print(\"✅ TTS model ready!\")\n",
        "except Exception as e:\n",
        "    print(f\"⚠️ TTS download failed: {e}\")\n",
        "\n",
        "print(\"🎉 Model download complete!\")"
      ]
    },
    {
      "cell_type": "code",
      "execution_count": null,
      "id": "bd69d1e7",
      "metadata": {
        "id": "bd69d1e7"
      },
      "outputs": [],
      "source": [
        "# 🚀 Launch Application\n",
        "import subprocess\n",
        "import threading\n",
        "import time\n",
        "from pyngrok import ngrok\n",
        "\n",
        "print(\"🚀 Starting AI Short-Video Creator...\")\n",
        "\n",
        "# Function to run Streamlit\n",
        "def run_streamlit():\n",
        "    subprocess.run([\n",
        "        'streamlit', 'run', 'app/main.py',\n",
        "        '--server.port=8501',\n",
        "        '--server.address=0.0.0.0',\n",
        "        '--server.headless=true',\n",
        "        '--browser.gatherUsageStats=false'\n",
        "    ])\n",
        "\n",
        "# Start Streamlit in background\n",
        "thread = threading.Thread(target=run_streamlit)\n",
        "thread.daemon = True\n",
        "thread.start()\n",
        "\n",
        "# Wait for Streamlit to start\n",
        "print(\"⏳ Waiting for Streamlit to start...\")\n",
        "time.sleep(15)\n",
        "\n",
        "# Create public URL\n",
        "try:\n",
        "    public_url = ngrok.connect(port='8501')\n",
        "    print(f\"\"\"🎉 SUCCESS! Your AI Video Creator is running!\n",
        "\n",
        "🌐 Public URL: {public_url}\n",
        "\n",
        "📱 Click the link above to access your application!\n",
        "\n",
        "🎬 Ready to create amazing videos from text!\n",
        "\n",
        "💡 Tips:\n",
        "   • Use the sample files in assets/samples/ to test\n",
        "   • Upload articles 200-800 words for best results\n",
        "   • Videos are generated in 9:16 format for social media\n",
        "   • Processing takes 2-5 minutes per video\n",
        "\n",
        "🔧 Troubleshooting:\n",
        "   • If link doesn't work, wait 30 seconds and try again\n",
        "   • Check that GPU is enabled in Runtime settings\n",
        "   • Restart kernel if you encounter errors\n",
        "    \"\"\")\n",
        "except Exception as e:\n",
        "    print(f\"❌ Failed to create public URL: {e}\")\n",
        "    print(\"💡 Make sure you've set your ngrok token above\")"
      ]
    },
    {
      "cell_type": "code",
      "execution_count": null,
      "id": "9e10963d",
      "metadata": {
        "id": "9e10963d"
      },
      "outputs": [],
      "source": [
        "# 📊 Monitor Application (Optional)\n",
        "import psutil\n",
        "import time\n",
        "\n",
        "def monitor_resources():\n",
        "    while True:\n",
        "        cpu_percent = psutil.cpu_percent(interval=1)\n",
        "        memory = psutil.virtual_memory()\n",
        "        gpu_memory = torch.cuda.memory_allocated() / 1e9 if torch.cuda.is_available() else 0\n",
        "\n",
        "        print(f\"💻 CPU: {cpu_percent:.1f}% | 💾 RAM: {memory.percent:.1f}% | 🔥 GPU: {gpu_memory:.1f}GB\")\n",
        "        time.sleep(30)\n",
        "\n",
        "# Uncomment to monitor resources (will run continuously)\n",
        "# monitor_resources()"
      ]
    },
    {
      "cell_type": "markdown",
      "id": "0da72ee0",
      "metadata": {
        "id": "0da72ee0"
      },
      "source": [
        "## 🎯 Usage Instructions\n",
        "\n",
        "1. **Click the public URL** generated above\n",
        "2. **Upload a text file** or paste content (200-800 words recommended)\n",
        "3. **Configure settings** (video length, style, voice)\n",
        "4. **Click Generate Video** and wait 2-5 minutes\n",
        "5. **Download your video** in perfect 9:16 format for social media!\n",
        "\n",
        "## 📱 Perfect for:\n",
        "- Instagram Reels\n",
        "- YouTube Shorts\n",
        "- TikTok videos\n",
        "- LinkedIn video posts\n",
        "- Twitter video content\n",
        "\n",
        "## 🔧 Troubleshooting:\n",
        "- **App not loading?** Wait 30 seconds, models might still be downloading\n",
        "- **Out of memory?** Restart kernel and try again\n",
        "- **Slow processing?** Make sure GPU is enabled in Runtime settings\n",
        "- **No public URL?** Set your ngrok token in the setup cell\n",
        "\n"
      ]
    }
  ],
  "metadata": {
    "language_info": {
      "name": "python"
    },
    "colab": {
      "provenance": [],
      "gpuType": "T4"
    },
    "accelerator": "GPU",
    "kernelspec": {
      "name": "python3",
      "display_name": "Python 3"
    }
  },
  "nbformat": 4,
  "nbformat_minor": 5
}